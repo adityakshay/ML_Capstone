{
 "cells": [
  {
   "cell_type": "code",
   "execution_count": 1,
   "metadata": {
    "_cell_guid": "b1076dfc-b9ad-4769-8c92-a6c4dae69d19",
    "_uuid": "8f2839f25d086af736a60e9eeb907d3b93b6e0e5"
   },
   "outputs": [
    {
     "name": "stdout",
     "output_type": "stream",
     "text": [
      "['train.csv', 'sample_submission.csv', 'test.csv', 'train_images', 'test_images']\n"
     ]
    }
   ],
   "source": [
    "# This Python 3 environment comes with many helpful analytics libraries installed\n",
    "# It is defined by the kaggle/python docker image: https://github.com/kaggle/docker-python\n",
    "# For example, here's several helpful packages to load in \n",
    "\n",
    "import numpy as np # linear algebra\n",
    "import pandas as pd # data processing, CSV file I/O (e.g. pd.read_csv)\n",
    "\n",
    "# Input data files are available in the \"../input/\" directory.\n",
    "# For example, running this (by clicking run or pressing Shift+Enter) will list the files in the input directory\n",
    "\n",
    "import os\n",
    "print(os.listdir(\"../input\"))\n",
    "\n",
    "# Any results you write to the current directory are saved as output."
   ]
  },
  {
   "cell_type": "code",
   "execution_count": 2,
   "metadata": {
    "_cell_guid": "79c7e3d0-c299-4dcb-8224-4455121ee9b0",
    "_uuid": "d629ff2d2480ee46fbb7e2d37f6b5fab8052498a"
   },
   "outputs": [],
   "source": [
    "import cv2\n",
    "\n",
    "X_img = []\n",
    "y_p = []\n",
    "def create_training_set(label, path):\n",
    "    img = cv2.imread(path, cv2.IMREAD_COLOR)\n",
    "    img = cv2.resize(img, (150,150))\n",
    "    X_img.append(np.array(img))\n",
    "    y_p.append(str(label))"
   ]
  },
  {
   "cell_type": "code",
   "execution_count": 3,
   "metadata": {},
   "outputs": [],
   "source": [
    "df_train = pd.read_csv('../input/train.csv')"
   ]
  },
  {
   "cell_type": "code",
   "execution_count": 4,
   "metadata": {},
   "outputs": [],
   "source": [
    "X = df_train['id_code']\n",
    "y = df_train['diagnosis']"
   ]
  },
  {
   "cell_type": "code",
   "execution_count": 5,
   "metadata": {},
   "outputs": [
    {
     "name": "stderr",
     "output_type": "stream",
     "text": [
      "3662it [04:27, 12.72it/s]\n"
     ]
    }
   ],
   "source": [
    "from tqdm import tqdm\n",
    "\n",
    "TRAIN_DIR = '../input/train_images'\n",
    "for id_code, diagnosis in tqdm(zip(X,y)):\n",
    "    path = os.path.join(TRAIN_DIR, '{}.png'.format(id_code))\n",
    "    create_training_set(diagnosis, path)"
   ]
  },
  {
   "cell_type": "code",
   "execution_count": 6,
   "metadata": {},
   "outputs": [
    {
     "name": "stderr",
     "output_type": "stream",
     "text": [
      "Using TensorFlow backend.\n"
     ]
    }
   ],
   "source": [
    "from keras.utils import to_categorical\n",
    "\n",
    "Y = to_categorical(y_p)\n",
    "X= np.array(X_img)\n",
    "X=X/255"
   ]
  },
  {
   "cell_type": "markdown",
   "metadata": {},
   "source": [
    "Feature Extraction"
   ]
  },
  {
   "cell_type": "code",
   "execution_count": 7,
   "metadata": {},
   "outputs": [],
   "source": [
    "from keras.preprocessing.image import ImageDataGenerator\n",
    "\n",
    "feat_extraction = ImageDataGenerator(\n",
    "    featurewise_center=True,\n",
    "    featurewise_std_normalization=True,\n",
    "    rotation_range=20,\n",
    "    width_shift_range=0.2,\n",
    "    height_shift_range=0.2,\n",
    "    horizontal_flip=True)\n",
    "\n",
    "# compute quantities required for featurewise normalization\n",
    "# (std, mean, and principal components if ZCA whitening is applied)\n",
    "feat_extraction.fit(X)"
   ]
  },
  {
   "cell_type": "code",
   "execution_count": 8,
   "metadata": {},
   "outputs": [],
   "source": [
    "from sklearn.model_selection import train_test_split\n",
    "\n",
    "X_train, X_valid, Y_train, Y_valid = train_test_split(X, Y, test_size=0.2, random_state=22)\n",
    "\n",
    "    "
   ]
  },
  {
   "cell_type": "code",
   "execution_count": 9,
   "metadata": {},
   "outputs": [
    {
     "data": {
      "text/plain": [
       "<matplotlib.axes._subplots.AxesSubplot at 0x7fe17c6015c0>"
      ]
     },
     "execution_count": 9,
     "metadata": {},
     "output_type": "execute_result"
    },
    {
     "data": {
      "image/png": "[encoded data removed]",
      "text/plain": [
       "<Figure size 432x288 with 1 Axes>"
      ]
     },
     "metadata": {
      "needs_background": "light"
     },
     "output_type": "display_data"
    }
   ],
   "source": [
    "y.hist()"
   ]
  },
  {
   "cell_type": "markdown",
   "metadata": {},
   "source": [
    "#Modelling"
   ]
  },
  {
   "cell_type": "code",
   "execution_count": 10,
   "metadata": {},
   "outputs": [],
   "source": [
    "from keras.models import Sequential\n",
    "from keras.layers import Conv2D, MaxPooling2D, BatchNormalization, GlobalAveragePooling2D\n",
    "from keras.layers import Dropout, Flatten, Dense, GaussianDropout\n",
    "from keras.constraints import maxnorm\n",
    "from keras import regularizers, optimizers\n",
    "\n",
    "model = Sequential()\n",
    "\n",
    "model.add(Conv2D(filters=16, kernel_size=2, padding='same', activation='relu', input_shape=(150,150,3)))\n",
    "model.add(MaxPooling2D(pool_size=2))\n",
    "model.add(Conv2D(filters=32, kernel_size=2, padding='same', activation='relu'))\n",
    "model.add(MaxPooling2D(pool_size=2))\n",
    "model.add(Conv2D(filters=64, kernel_size=2, padding='same', activation='relu'))\n",
    "model.add(MaxPooling2D(pool_size=2))\n",
    "model.add(GlobalAveragePooling2D())\n",
    "\n",
    "model.add(Dense(5, activation='softmax'))\n"
   ]
  },
  {
   "cell_type": "code",
   "execution_count": 11,
   "metadata": {},
   "outputs": [
    {
     "name": "stdout",
     "output_type": "stream",
     "text": [
      "_________________________________________________________________\n",
      "Layer (type)                 Output Shape              Param #   \n",
      "=================================================================\n",
      "conv2d_1 (Conv2D)            (None, 150, 150, 16)      208       \n",
      "_________________________________________________________________\n",
      "max_pooling2d_1 (MaxPooling2 (None, 75, 75, 16)        0         \n",
      "_________________________________________________________________\n",
      "conv2d_2 (Conv2D)            (None, 75, 75, 32)        2080      \n",
      "_________________________________________________________________\n",
      "max_pooling2d_2 (MaxPooling2 (None, 37, 37, 32)        0         \n",
      "_________________________________________________________________\n",
      "conv2d_3 (Conv2D)            (None, 37, 37, 64)        8256      \n",
      "_________________________________________________________________\n",
      "max_pooling2d_3 (MaxPooling2 (None, 18, 18, 64)        0         \n",
      "_________________________________________________________________\n",
      "global_average_pooling2d_1 ( (None, 64)                0         \n",
      "_________________________________________________________________\n",
      "dense_1 (Dense)              (None, 5)                 325       \n",
      "=================================================================\n",
      "Total params: 10,869\n",
      "Trainable params: 10,869\n",
      "Non-trainable params: 0\n",
      "_________________________________________________________________\n"
     ]
    }
   ],
   "source": [
    "model.summary()"
   ]
  },
  {
   "cell_type": "code",
   "execution_count": 12,
   "metadata": {},
   "outputs": [],
   "source": [
    "from keras.optimizers import Adam, SGD, Adagrad, Adadelta, RMSprop\n",
    "\n",
    "model.compile(optimizer= Adam(lr=0.001), loss='categorical_crossentropy', metrics=['accuracy'])"
   ]
  },
  {
   "cell_type": "code",
   "execution_count": 13,
   "metadata": {},
   "outputs": [],
   "source": [
    "batch_size =50\n",
    "epochs= 50"
   ]
  },
  {
   "cell_type": "code",
   "execution_count": 14,
   "metadata": {},
   "outputs": [
    {
     "name": "stdout",
     "output_type": "stream",
     "text": [
      "Train on 2929 samples, validate on 733 samples\n",
      "Epoch 1/50\n",
      "2929/2929 [==============================] - 6s 2ms/step - loss: 1.3452 - acc: 0.4862 - val_loss: 1.2831 - val_acc: 0.4789\n",
      "\n",
      "Epoch 00001: val_loss improved from inf to 1.28314, saving model to CNN_keras.hdf5\n",
      "Epoch 2/50\n",
      "2929/2929 [==============================] - 2s 749us/step - loss: 1.2305 - acc: 0.4985 - val_loss: 1.2411 - val_acc: 0.4870\n",
      "\n",
      "Epoch 00002: val_loss improved from 1.28314 to 1.24112, saving model to CNN_keras.hdf5\n",
      "Epoch 3/50\n",
      "2929/2929 [==============================] - 2s 737us/step - loss: 1.1764 - acc: 0.5189 - val_loss: 1.1659 - val_acc: 0.5266\n",
      "\n",
      "Epoch 00003: val_loss improved from 1.24112 to 1.16590, saving model to CNN_keras.hdf5\n",
      "Epoch 4/50\n",
      "2929/2929 [==============================] - 2s 734us/step - loss: 1.1221 - acc: 0.5797 - val_loss: 1.1446 - val_acc: 0.5512\n",
      "\n",
      "Epoch 00004: val_loss improved from 1.16590 to 1.14465, saving model to CNN_keras.hdf5\n",
      "Epoch 5/50\n",
      "2929/2929 [==============================] - 2s 728us/step - loss: 1.0722 - acc: 0.6306 - val_loss: 1.0600 - val_acc: 0.6439\n",
      "\n",
      "Epoch 00005: val_loss improved from 1.14465 to 1.06000, saving model to CNN_keras.hdf5\n",
      "Epoch 6/50\n",
      "2929/2929 [==============================] - 2s 725us/step - loss: 1.0031 - acc: 0.6757 - val_loss: 0.9881 - val_acc: 0.6808\n",
      "\n",
      "Epoch 00006: val_loss improved from 1.06000 to 0.98810, saving model to CNN_keras.hdf5\n",
      "Epoch 7/50\n",
      "2929/2929 [==============================] - 2s 730us/step - loss: 0.9572 - acc: 0.6849 - val_loss: 0.9390 - val_acc: 0.7067\n",
      "\n",
      "Epoch 00007: val_loss improved from 0.98810 to 0.93904, saving model to CNN_keras.hdf5\n",
      "Epoch 8/50\n",
      "2929/2929 [==============================] - 2s 730us/step - loss: 0.8982 - acc: 0.7067 - val_loss: 0.8895 - val_acc: 0.7040\n",
      "\n",
      "Epoch 00008: val_loss improved from 0.93904 to 0.88949, saving model to CNN_keras.hdf5\n",
      "Epoch 9/50\n",
      "2929/2929 [==============================] - 2s 732us/step - loss: 0.8728 - acc: 0.7023 - val_loss: 0.9042 - val_acc: 0.6835\n",
      "\n",
      "Epoch 00009: val_loss did not improve from 0.88949\n",
      "Epoch 10/50\n",
      "2929/2929 [==============================] - 2s 735us/step - loss: 0.8410 - acc: 0.7098 - val_loss: 0.8333 - val_acc: 0.7217\n",
      "\n",
      "Epoch 00010: val_loss improved from 0.88949 to 0.83332, saving model to CNN_keras.hdf5\n",
      "Epoch 11/50\n",
      "2929/2929 [==============================] - 2s 729us/step - loss: 0.8264 - acc: 0.7129 - val_loss: 0.8576 - val_acc: 0.6985\n",
      "\n",
      "Epoch 00011: val_loss did not improve from 0.83332\n",
      "Epoch 12/50\n",
      "2929/2929 [==============================] - 2s 728us/step - loss: 0.8136 - acc: 0.7125 - val_loss: 0.8070 - val_acc: 0.7149\n",
      "\n",
      "Epoch 00012: val_loss improved from 0.83332 to 0.80698, saving model to CNN_keras.hdf5\n",
      "Epoch 13/50\n",
      "2929/2929 [==============================] - 2s 727us/step - loss: 0.8082 - acc: 0.7159 - val_loss: 0.8133 - val_acc: 0.7040\n",
      "\n",
      "Epoch 00013: val_loss did not improve from 0.80698\n",
      "Epoch 14/50\n",
      "2929/2929 [==============================] - 2s 734us/step - loss: 0.8015 - acc: 0.7177 - val_loss: 0.8221 - val_acc: 0.7244\n",
      "\n",
      "Epoch 00014: val_loss did not improve from 0.80698\n",
      "Epoch 15/50\n",
      "2929/2929 [==============================] - 2s 747us/step - loss: 0.7973 - acc: 0.7211 - val_loss: 0.7920 - val_acc: 0.7121\n",
      "\n",
      "Epoch 00015: val_loss improved from 0.80698 to 0.79202, saving model to CNN_keras.hdf5\n",
      "Epoch 16/50\n",
      "2929/2929 [==============================] - 2s 731us/step - loss: 0.7973 - acc: 0.7197 - val_loss: 0.7913 - val_acc: 0.7203\n",
      "\n",
      "Epoch 00016: val_loss improved from 0.79202 to 0.79132, saving model to CNN_keras.hdf5\n",
      "Epoch 17/50\n",
      "2929/2929 [==============================] - 2s 739us/step - loss: 0.7922 - acc: 0.7217 - val_loss: 0.7850 - val_acc: 0.7190\n",
      "\n",
      "Epoch 00017: val_loss improved from 0.79132 to 0.78497, saving model to CNN_keras.hdf5\n",
      "Epoch 18/50\n",
      "2929/2929 [==============================] - 2s 733us/step - loss: 0.7874 - acc: 0.7214 - val_loss: 0.7787 - val_acc: 0.7231\n",
      "\n",
      "Epoch 00018: val_loss improved from 0.78497 to 0.77865, saving model to CNN_keras.hdf5\n",
      "Epoch 19/50\n",
      "2929/2929 [==============================] - 2s 724us/step - loss: 0.7882 - acc: 0.7211 - val_loss: 0.7837 - val_acc: 0.7231\n",
      "\n",
      "Epoch 00019: val_loss did not improve from 0.77865\n",
      "Epoch 20/50\n",
      "2929/2929 [==============================] - 2s 728us/step - loss: 0.7847 - acc: 0.7221 - val_loss: 0.7779 - val_acc: 0.7203\n",
      "\n",
      "Epoch 00020: val_loss improved from 0.77865 to 0.77791, saving model to CNN_keras.hdf5\n",
      "Epoch 21/50\n",
      "2929/2929 [==============================] - 2s 735us/step - loss: 0.7867 - acc: 0.7200 - val_loss: 0.7734 - val_acc: 0.7231\n",
      "\n",
      "Epoch 00021: val_loss improved from 0.77791 to 0.77337, saving model to CNN_keras.hdf5\n",
      "Epoch 22/50\n",
      "2929/2929 [==============================] - 2s 733us/step - loss: 0.7819 - acc: 0.7241 - val_loss: 0.7850 - val_acc: 0.7271\n",
      "\n",
      "Epoch 00022: val_loss did not improve from 0.77337\n",
      "Epoch 23/50\n",
      "2929/2929 [==============================] - 2s 728us/step - loss: 0.7859 - acc: 0.7217 - val_loss: 0.7688 - val_acc: 0.7258\n",
      "\n",
      "Epoch 00023: val_loss improved from 0.77337 to 0.76879, saving model to CNN_keras.hdf5\n",
      "Epoch 24/50\n",
      "2929/2929 [==============================] - 2s 732us/step - loss: 0.7821 - acc: 0.7241 - val_loss: 0.7710 - val_acc: 0.7176\n",
      "\n",
      "Epoch 00024: val_loss did not improve from 0.76879\n",
      "Epoch 25/50\n",
      "2929/2929 [==============================] - 2s 734us/step - loss: 0.7799 - acc: 0.7224 - val_loss: 0.7701 - val_acc: 0.7190\n",
      "\n",
      "Epoch 00025: val_loss did not improve from 0.76879\n",
      "Epoch 26/50\n",
      "2929/2929 [==============================] - 2s 735us/step - loss: 0.7750 - acc: 0.7231 - val_loss: 0.7705 - val_acc: 0.7176\n",
      "\n",
      "Epoch 00026: val_loss did not improve from 0.76879\n",
      "Epoch 27/50\n",
      "2929/2929 [==============================] - 2s 735us/step - loss: 0.7796 - acc: 0.7214 - val_loss: 0.7646 - val_acc: 0.7149\n",
      "\n",
      "Epoch 00027: val_loss improved from 0.76879 to 0.76463, saving model to CNN_keras.hdf5\n",
      "Epoch 28/50\n",
      "2929/2929 [==============================] - 2s 733us/step - loss: 0.7771 - acc: 0.7245 - val_loss: 0.7648 - val_acc: 0.7244\n",
      "\n",
      "Epoch 00028: val_loss did not improve from 0.76463\n",
      "Epoch 29/50\n",
      "2929/2929 [==============================] - 2s 728us/step - loss: 0.7726 - acc: 0.7221 - val_loss: 0.7610 - val_acc: 0.7203\n",
      "\n",
      "Epoch 00029: val_loss improved from 0.76463 to 0.76096, saving model to CNN_keras.hdf5\n",
      "Epoch 30/50\n",
      "2929/2929 [==============================] - 2s 734us/step - loss: 0.7680 - acc: 0.7238 - val_loss: 0.7687 - val_acc: 0.7149\n",
      "\n",
      "Epoch 00030: val_loss did not improve from 0.76096\n",
      "Epoch 31/50\n",
      "2929/2929 [==============================] - 2s 727us/step - loss: 0.7718 - acc: 0.7235 - val_loss: 0.7573 - val_acc: 0.7285\n",
      "\n",
      "Epoch 00031: val_loss improved from 0.76096 to 0.75730, saving model to CNN_keras.hdf5\n",
      "Epoch 32/50\n",
      "2929/2929 [==============================] - 2s 721us/step - loss: 0.7660 - acc: 0.7238 - val_loss: 0.7527 - val_acc: 0.7271\n",
      "\n",
      "Epoch 00032: val_loss improved from 0.75730 to 0.75268, saving model to CNN_keras.hdf5\n",
      "Epoch 33/50\n",
      "2929/2929 [==============================] - 2s 719us/step - loss: 0.7733 - acc: 0.7187 - val_loss: 0.7535 - val_acc: 0.7258\n",
      "\n",
      "Epoch 00033: val_loss did not improve from 0.75268\n",
      "Epoch 34/50\n",
      "2929/2929 [==============================] - 2s 722us/step - loss: 0.7686 - acc: 0.7245 - val_loss: 0.7626 - val_acc: 0.7271\n",
      "\n",
      "Epoch 00034: val_loss did not improve from 0.75268\n",
      "Epoch 35/50\n",
      "2929/2929 [==============================] - 2s 730us/step - loss: 0.7663 - acc: 0.7258 - val_loss: 0.7623 - val_acc: 0.7094\n",
      "\n",
      "Epoch 00035: val_loss did not improve from 0.75268\n",
      "Epoch 36/50\n",
      "2929/2929 [==============================] - 2s 730us/step - loss: 0.7667 - acc: 0.7255 - val_loss: 0.7669 - val_acc: 0.7094\n",
      "\n",
      "Epoch 00036: val_loss did not improve from 0.75268\n",
      "Epoch 37/50\n",
      "2929/2929 [==============================] - 2s 731us/step - loss: 0.7649 - acc: 0.7252 - val_loss: 0.7536 - val_acc: 0.7162\n",
      "\n",
      "Epoch 00037: val_loss did not improve from 0.75268\n",
      "Epoch 38/50\n",
      "2929/2929 [==============================] - 2s 732us/step - loss: 0.7617 - acc: 0.7293 - val_loss: 0.7557 - val_acc: 0.7312\n",
      "\n",
      "Epoch 00038: val_loss did not improve from 0.75268\n",
      "Epoch 39/50\n",
      "2929/2929 [==============================] - 2s 736us/step - loss: 0.7627 - acc: 0.7320 - val_loss: 0.7416 - val_acc: 0.7271\n",
      "\n",
      "Epoch 00039: val_loss improved from 0.75268 to 0.74164, saving model to CNN_keras.hdf5\n",
      "Epoch 40/50\n",
      "2929/2929 [==============================] - 2s 729us/step - loss: 0.7561 - acc: 0.7320 - val_loss: 0.7475 - val_acc: 0.7203\n",
      "\n",
      "Epoch 00040: val_loss did not improve from 0.74164\n",
      "Epoch 41/50\n",
      "2929/2929 [==============================] - 2s 725us/step - loss: 0.7585 - acc: 0.7299 - val_loss: 0.7409 - val_acc: 0.7312\n",
      "\n",
      "Epoch 00041: val_loss improved from 0.74164 to 0.74090, saving model to CNN_keras.hdf5\n",
      "Epoch 42/50\n",
      "2929/2929 [==============================] - 2s 731us/step - loss: 0.7591 - acc: 0.7272 - val_loss: 0.7570 - val_acc: 0.7190\n",
      "\n",
      "Epoch 00042: val_loss did not improve from 0.74090\n",
      "Epoch 43/50\n",
      "2929/2929 [==============================] - 2s 732us/step - loss: 0.7518 - acc: 0.7299 - val_loss: 0.7391 - val_acc: 0.7299\n",
      "\n",
      "Epoch 00043: val_loss improved from 0.74090 to 0.73910, saving model to CNN_keras.hdf5\n",
      "Epoch 44/50\n",
      "2929/2929 [==============================] - 2s 732us/step - loss: 0.7518 - acc: 0.7316 - val_loss: 0.7626 - val_acc: 0.7080\n",
      "\n",
      "Epoch 00044: val_loss did not improve from 0.73910\n",
      "Epoch 45/50\n",
      "2929/2929 [==============================] - 2s 736us/step - loss: 0.7631 - acc: 0.7235 - val_loss: 0.7679 - val_acc: 0.7217\n",
      "\n",
      "Epoch 00045: val_loss did not improve from 0.73910\n",
      "Epoch 46/50\n",
      "2929/2929 [==============================] - 2s 736us/step - loss: 0.7549 - acc: 0.7330 - val_loss: 0.7373 - val_acc: 0.7271\n",
      "\n",
      "Epoch 00046: val_loss improved from 0.73910 to 0.73731, saving model to CNN_keras.hdf5\n",
      "Epoch 47/50\n",
      "2929/2929 [==============================] - 2s 734us/step - loss: 0.7523 - acc: 0.7313 - val_loss: 0.7415 - val_acc: 0.7162\n",
      "\n",
      "Epoch 00047: val_loss did not improve from 0.73731\n",
      "Epoch 48/50\n",
      "2929/2929 [==============================] - 2s 735us/step - loss: 0.7504 - acc: 0.7344 - val_loss: 0.7352 - val_acc: 0.7299\n",
      "\n",
      "Epoch 00048: val_loss improved from 0.73731 to 0.73524, saving model to CNN_keras.hdf5\n",
      "Epoch 49/50\n",
      "2929/2929 [==============================] - 2s 741us/step - loss: 0.7504 - acc: 0.7323 - val_loss: 0.7419 - val_acc: 0.7340\n",
      "\n",
      "Epoch 00049: val_loss did not improve from 0.73524\n",
      "Epoch 50/50\n",
      "2929/2929 [==============================] - 2s 734us/step - loss: 0.7499 - acc: 0.7310 - val_loss: 0.7411 - val_acc: 0.7203\n",
      "\n",
      "Epoch 00050: val_loss did not improve from 0.73524\n"
     ]
    }
   ],
   "source": [
    "from keras.callbacks import ModelCheckpoint\n",
    "\n",
    "checkpointer =  ModelCheckpoint(filepath= 'CNN_keras.hdf5', verbose=1, save_best_only=True)\n",
    "\n",
    "#model_history = model.fit_generator(feat_extraction.flow(X_train, Y_train, batch_size=batch_size),\n",
    " #        epochs= epochs, validation_data=feat_extraction.flow(X_valid, Y_valid, batch_size= batch_size),\n",
    "  #       callbacks= [checkpointer], verbose=1, steps_per_epoch=X_train.shape[0]//batch_size, validation_steps=X_train.shape[0]//batch_size )\n",
    "\n",
    "\n",
    "model_history=model.fit(X_train, Y_train, \n",
    "          validation_data=(X_valid, Y_valid),\n",
    "          epochs=epochs, batch_size=batch_size, callbacks=[checkpointer], verbose=1)\n",
    "\n",
    "\n"
   ]
  },
  {
   "cell_type": "code",
   "execution_count": 15,
   "metadata": {},
   "outputs": [
    {
     "name": "stdout",
     "output_type": "stream",
     "text": [
      "dict_keys(['val_loss', 'val_acc', 'loss', 'acc'])\n"
     ]
    },
    {
     "data": {
      "image/png": "[encoded data removed]",
      "text/plain": [
       "<Figure size 432x288 with 1 Axes>"
      ]
     },
     "metadata": {
      "needs_background": "light"
     },
     "output_type": "display_data"
    },
    {
     "data": {
      "image/png": "[encoded data removed]",
      "text/plain": [
       "<Figure size 432x288 with 1 Axes>"
      ]
     },
     "metadata": {
      "needs_background": "light"
     },
     "output_type": "display_data"
    }
   ],
   "source": [
    "import matplotlib.pyplot as plt\n",
    "# list all data in history\n",
    "print(model_history.history.keys())\n",
    "# summarize history for accuracy\n",
    "plt.plot(model_history.history['acc'])\n",
    "plt.plot(model_history.history['val_acc'])\n",
    "plt.title('model accuracy')\n",
    "plt.ylabel('accuracy')\n",
    "plt.xlabel('epoch')\n",
    "plt.legend(['train', 'validation'], loc='upper left')\n",
    "plt.show()\n",
    "# summarize history for loss\n",
    "plt.plot(model_history.history['loss'])\n",
    "plt.plot(model_history.history['val_loss'])\n",
    "plt.title('model loss')\n",
    "plt.ylabel('loss')\n",
    "plt.xlabel('epoch')\n",
    "plt.legend(['train', 'validation'], loc='upper left')\n",
    "plt.show()"
   ]
  },
  {
   "cell_type": "code",
   "execution_count": 16,
   "metadata": {},
   "outputs": [
    {
     "data": {
      "text/plain": [
       "['3d4d693f7983.png',\n",
       " 'bc9d8ac89c82.png',\n",
       " 'ab59dfa8dfa2.png',\n",
       " 'd8ebfa3568ac.png',\n",
       " '1e0309115a25.png']"
      ]
     },
     "execution_count": 16,
     "metadata": {},
     "output_type": "execute_result"
    }
   ],
   "source": [
    "os.listdir('../input/test_images/')[0:5]"
   ]
  },
  {
   "cell_type": "code",
   "execution_count": 17,
   "metadata": {},
   "outputs": [
    {
     "data": {
      "text/plain": [
       "<matplotlib.image.AxesImage at 0x7fe17bc4c9b0>"
      ]
     },
     "execution_count": 17,
     "metadata": {},
     "output_type": "execute_result"
    },
    {
     "data": {
      "image/png": "[encoded data removed]",
      "text/plain": [
       "<Figure size 432x288 with 1 Axes>"
      ]
     },
     "metadata": {
      "needs_background": "light"
     },
     "output_type": "display_data"
    }
   ],
   "source": [
    "test_image = cv2.imread('../input/test_images/3d4d693f7983.png', cv2.IMREAD_COLOR)\n",
    "test_image = cv2.resize(test_image, (150,150))\n",
    "import matplotlib.pyplot as plt\n",
    "\n",
    "plt.imshow(test_image)"
   ]
  },
  {
   "cell_type": "code",
   "execution_count": 18,
   "metadata": {},
   "outputs": [],
   "source": [
    "test_X = np.array(test_image)\n",
    "test_X = test_X/255"
   ]
  },
  {
   "cell_type": "code",
   "execution_count": 19,
   "metadata": {},
   "outputs": [],
   "source": [
    "pred_test= model.predict(np.expand_dims(test_X,axis=0))"
   ]
  },
  {
   "cell_type": "code",
   "execution_count": 20,
   "metadata": {},
   "outputs": [
    {
     "data": {
      "text/plain": [
       "array([[0.10197716, 0.12064256, 0.4210069 , 0.17770542, 0.1786679 ]],\n",
       "      dtype=float32)"
      ]
     },
     "execution_count": 20,
     "metadata": {},
     "output_type": "execute_result"
    }
   ],
   "source": [
    "pred_test"
   ]
  },
  {
   "cell_type": "code",
   "execution_count": 21,
   "metadata": {},
   "outputs": [
    {
     "data": {
      "text/html": [
       "<div>\n",
       "<style scoped>\n",
       "    .dataframe tbody tr th:only-of-type {\n",
       "        vertical-align: middle;\n",
       "    }\n",
       "\n",
       "    .dataframe tbody tr th {\n",
       "        vertical-align: top;\n",
       "    }\n",
       "\n",
       "    .dataframe thead th {\n",
       "        text-align: right;\n",
       "    }\n",
       "</style>\n",
       "<table border=\"1\" class=\"dataframe\">\n",
       "  <thead>\n",
       "    <tr style=\"text-align: right;\">\n",
       "      <th></th>\n",
       "      <th>id_code</th>\n",
       "    </tr>\n",
       "  </thead>\n",
       "  <tbody>\n",
       "    <tr>\n",
       "      <th>0</th>\n",
       "      <td>0005cfc8afb6</td>\n",
       "    </tr>\n",
       "    <tr>\n",
       "      <th>1</th>\n",
       "      <td>003f0afdcd15</td>\n",
       "    </tr>\n",
       "    <tr>\n",
       "      <th>2</th>\n",
       "      <td>006efc72b638</td>\n",
       "    </tr>\n",
       "    <tr>\n",
       "      <th>3</th>\n",
       "      <td>00836aaacf06</td>\n",
       "    </tr>\n",
       "    <tr>\n",
       "      <th>4</th>\n",
       "      <td>009245722fa4</td>\n",
       "    </tr>\n",
       "  </tbody>\n",
       "</table>\n",
       "</div>"
      ],
      "text/plain": [
       "        id_code\n",
       "0  0005cfc8afb6\n",
       "1  003f0afdcd15\n",
       "2  006efc72b638\n",
       "3  00836aaacf06\n",
       "4  009245722fa4"
      ]
     },
     "execution_count": 21,
     "metadata": {},
     "output_type": "execute_result"
    }
   ],
   "source": [
    "test_df = pd.read_csv('../input/test.csv')\n",
    "test_df.head()"
   ]
  },
  {
   "cell_type": "code",
   "execution_count": 22,
   "metadata": {},
   "outputs": [],
   "source": [
    "test_ids = test_df['id_code']"
   ]
  },
  {
   "cell_type": "code",
   "execution_count": 23,
   "metadata": {},
   "outputs": [],
   "source": [
    "test_images = []\n",
    "def create_test_set(path):\n",
    "    img = cv2.imread(path,cv2.IMREAD_COLOR)\n",
    "    img = cv2.resize(img, (150,150))\n",
    "\n",
    "    test_images.append(np.array(img))"
   ]
  },
  {
   "cell_type": "code",
   "execution_count": 24,
   "metadata": {},
   "outputs": [
    {
     "name": "stderr",
     "output_type": "stream",
     "text": [
      "100%|██████████| 1928/1928 [00:49<00:00, 38.72it/s]\n"
     ]
    }
   ],
   "source": [
    "from tqdm import tqdm\n",
    "for id_code in tqdm(test_ids):\n",
    "    path = os.path.join('../input/test_images','{}.png'.format(id_code))\n",
    "    create_test_set(path)"
   ]
  },
  {
   "cell_type": "code",
   "execution_count": 25,
   "metadata": {},
   "outputs": [],
   "source": [
    "from keras.models import load_model\n",
    "model=load_model('CNN_keras.hdf5')"
   ]
  },
  {
   "cell_type": "code",
   "execution_count": 26,
   "metadata": {},
   "outputs": [],
   "source": [
    "test_X=np.array(test_images)\n",
    "test_X=test_X/255\n",
    "feat_extraction.fit(test_X)\n",
    "predictions=model.predict(test_X)"
   ]
  },
  {
   "cell_type": "code",
   "execution_count": 27,
   "metadata": {},
   "outputs": [
    {
     "data": {
      "text/plain": [
       "array([2, 2, 2, ..., 2, 2, 0])"
      ]
     },
     "execution_count": 27,
     "metadata": {},
     "output_type": "execute_result"
    }
   ],
   "source": [
    "pred = np.argmax(predictions, axis=1)\n",
    "pred"
   ]
  },
  {
   "cell_type": "code",
   "execution_count": 28,
   "metadata": {},
   "outputs": [
    {
     "data": {
      "text/plain": [
       "array([0, 1, 2])"
      ]
     },
     "execution_count": 28,
     "metadata": {},
     "output_type": "execute_result"
    }
   ],
   "source": [
    "np.unique(pred)"
   ]
  },
  {
   "cell_type": "code",
   "execution_count": 29,
   "metadata": {},
   "outputs": [],
   "source": [
    "submission_cnn = pd.DataFrame({'id_code' : test_ids , 'diagnosis' : pred})"
   ]
  },
  {
   "cell_type": "code",
   "execution_count": 30,
   "metadata": {},
   "outputs": [
    {
     "data": {
      "text/html": [
       "<div>\n",
       "<style scoped>\n",
       "    .dataframe tbody tr th:only-of-type {\n",
       "        vertical-align: middle;\n",
       "    }\n",
       "\n",
       "    .dataframe tbody tr th {\n",
       "        vertical-align: top;\n",
       "    }\n",
       "\n",
       "    .dataframe thead th {\n",
       "        text-align: right;\n",
       "    }\n",
       "</style>\n",
       "<table border=\"1\" class=\"dataframe\">\n",
       "  <thead>\n",
       "    <tr style=\"text-align: right;\">\n",
       "      <th></th>\n",
       "      <th>id_code</th>\n",
       "      <th>diagnosis</th>\n",
       "    </tr>\n",
       "  </thead>\n",
       "  <tbody>\n",
       "    <tr>\n",
       "      <th>0</th>\n",
       "      <td>0005cfc8afb6</td>\n",
       "      <td>2</td>\n",
       "    </tr>\n",
       "    <tr>\n",
       "      <th>1</th>\n",
       "      <td>003f0afdcd15</td>\n",
       "      <td>2</td>\n",
       "    </tr>\n",
       "    <tr>\n",
       "      <th>2</th>\n",
       "      <td>006efc72b638</td>\n",
       "      <td>2</td>\n",
       "    </tr>\n",
       "    <tr>\n",
       "      <th>3</th>\n",
       "      <td>00836aaacf06</td>\n",
       "      <td>2</td>\n",
       "    </tr>\n",
       "    <tr>\n",
       "      <th>4</th>\n",
       "      <td>009245722fa4</td>\n",
       "      <td>2</td>\n",
       "    </tr>\n",
       "  </tbody>\n",
       "</table>\n",
       "</div>"
      ],
      "text/plain": [
       "        id_code  diagnosis\n",
       "0  0005cfc8afb6          2\n",
       "1  003f0afdcd15          2\n",
       "2  006efc72b638          2\n",
       "3  00836aaacf06          2\n",
       "4  009245722fa4          2"
      ]
     },
     "execution_count": 30,
     "metadata": {},
     "output_type": "execute_result"
    }
   ],
   "source": [
    "submission_cnn.head()"
   ]
  },
  {
   "cell_type": "code",
   "execution_count": 31,
   "metadata": {},
   "outputs": [],
   "source": [
    "submission_cnn.to_csv(\"submission.csv\",index=False)"
   ]
  }
 ],
 "metadata": {
  "kernelspec": {
   "display_name": "Python 3",
   "language": "python",
   "name": "python3"
  },
  "language_info": {
   "codemirror_mode": {
    "name": "ipython",
    "version": 3
   },
   "file_extension": ".py",
   "mimetype": "text/x-python",
   "name": "python",
   "nbconvert_exporter": "python",
   "pygments_lexer": "ipython3",
   "version": "3.6.6"
  }
 },
 "nbformat": 4,
 "nbformat_minor": 1
}
